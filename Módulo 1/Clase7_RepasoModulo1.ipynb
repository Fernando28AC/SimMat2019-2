{
 "cells": [
  {
   "cell_type": "markdown",
   "metadata": {},
   "source": [
    "# Examen Módulo 1 - Optimización. <font color=blue>Tipo de examen 1</font>.\n",
    "Tipo de exámen https://drive.google.com/file/d/1aS_7K-InMQOgyQElm4f2Hjz6B5ishZVs/view\n",
    "\n",
    "Lea cuidadosamente las siguientes **indicaciones** antes de comenzar el examen:\n",
    "- Para resolver el examen edite este mismo archivo y renómbrelo de la siguiente manera: *E1ApellidoNombre*, donde *ApellidoNombre* corresponde a su apellido paterno con la inicial en mayúscula, seguido de su primer nombre con la inicial en mayúscula **sin acentos**. Por ejemplo, en mi caso el nombre del archivo sería *E1CristianZapata*.\n",
    "- Resuelva los puntos en el espacio provisto. Si requiere agregar más celdas para código o escritura, hágalo.\n",
    "- Recuerde que también se está evaluando su capacidad de interpretar los resultados. Escriba sus interpretaciones/conclusiones en celdas utilizando *Markdown*.\n",
    "- El formato de presentación de todo el examen en general debe ser adecuado. Use tamaños de letra, colores, etiquetas, etcétera.\n",
    "- No se resuelven dudas de ningún tipo por los profesores de la asignatura. Por favor, absténgase de preguntar.\n",
    "- Revise bien el tipo de examen. Sólo se le calificará si realiza el tipo de examen asignado."
   ]
  },
  {
   "cell_type": "markdown",
   "metadata": {},
   "source": [
    "## Primer punto. Optimización de funciones escalares usando `sympy` (30 puntos).\n",
    "\n",
    "**Enunciado.** Calcular **las dimensiones** del rectángulo de área máxima que puede inscribirse dentro de un semicírculo de radio 2.\n",
    "\n",
    "Note que **las dimensiones** son base $b = 2x$ y altura $h = y$. Ver la siguiente figura."
   ]
  },
  {
   "cell_type": "code",
   "execution_count": 1,
   "metadata": {},
   "outputs": [],
   "source": [
    "import numpy as np\n",
    "import matplotlib.pyplot as plt\n",
    "%matplotlib inline"
   ]
  },
  {
   "cell_type": "code",
   "execution_count": 2,
   "metadata": {},
   "outputs": [
    {
     "data": {
      "image/png": "[encoded data removed]",
      "text/plain": [
       "<Figure size 864x432 with 1 Axes>"
      ]
     },
     "metadata": {
      "needs_background": "light"
     },
     "output_type": "display_data"
    }
   ],
   "source": [
    "x = np.linspace(-2, 2, 100)\n",
    "y = np.sqrt(4 - x**2)\n",
    "\n",
    "xr = [-1.5, -1.5, 1.5, 1.5, -1.5]\n",
    "yr = [0, np.sqrt(4 - 1.5**2), np.sqrt(4 - 1.5**2), 0, 0]\n",
    "\n",
    "xx = [0, 1.5]\n",
    "yx = [0, 0]\n",
    "\n",
    "xy = [1.5, 1.5]\n",
    "yy = [0, np.sqrt(4 - 1.5**2)]\n",
    "\n",
    "plt.figure(figsize = (12, 6))\n",
    "plt.plot(x, y, 'b', label = 'semicírculo')\n",
    "plt.plot(xr, yr, 'r', label = 'rectángulo')\n",
    "plt.plot(xx, yx, 'k')\n",
    "plt.plot(xy, yy, 'g')\n",
    "plt.text(0.7, 0.1, '$x$', fontsize = 16)\n",
    "plt.text(1.6, 0.6, '$y$', fontsize = 16, color = 'g')\n",
    "plt.legend(loc = 'best')\n",
    "plt.show()"
   ]
  },
  {
   "cell_type": "markdown",
   "metadata": {},
   "source": [
    "**Punto 1 (10 puntos).** Encuentre el área del rectángulo en función de la variable $x$, $A_R(x)$. También provea el dominio de la función para que tenga sentido.\n",
    "\n",
    "Realice este punto usando fórmulas en LaTeX, en celdas Markdown."
   ]
  },
  {
   "cell_type": "markdown",
   "metadata": {},
   "source": [
    "**Solución punto 1.**"
   ]
  },
  {
   "cell_type": "markdown",
   "metadata": {},
   "source": [
    "El área del rectángulo $A_R$ está dada por \n",
    "\n",
    "$$A_R = bh$$\n",
    "\n",
    "Pero como $b = 2x$ y $h=y$ entonces\n",
    "\n",
    "$$A_R = 2xy$$\n",
    "\n",
    "La variable $y$ se puede escribir como función de $x$ usando el teorema de pitágoras\n",
    "\n",
    "$$y = \\sqrt{4-x^2}$$\n",
    "\n",
    "Reemplazando finalmente se tiene que\n",
    "\n",
    "$$A_R(x) = 2x\\sqrt{4-x^2}$$\n",
    "\n",
    "y el dominio de la función está dado por \n",
    "\n",
    "$$Dom_{A_R(x)} = [0,2]$$"
   ]
  },
  {
   "cell_type": "markdown",
   "metadata": {},
   "source": [
    "**Punto 2 (10 puntos).** Usando `sympy` maximice la función $A_R(x)$ en su dominio."
   ]
  },
  {
   "cell_type": "markdown",
   "metadata": {},
   "source": [
    "**Solución punto 2.**"
   ]
  },
  {
   "cell_type": "code",
   "execution_count": 3,
   "metadata": {},
   "outputs": [],
   "source": [
    "import sympy as sym"
   ]
  },
  {
   "cell_type": "code",
   "execution_count": 4,
   "metadata": {},
   "outputs": [
    {
     "data": {
      "text/latex": [
       "$\\displaystyle x$"
      ],
      "text/plain": [
       "x"
      ]
     },
     "execution_count": 4,
     "metadata": {},
     "output_type": "execute_result"
    }
   ],
   "source": [
    "sym.var('x')"
   ]
  },
  {
   "cell_type": "code",
   "execution_count": 5,
   "metadata": {},
   "outputs": [],
   "source": [
    "def AR(x):\n",
    "    return 2*x*(4-x**2)**(1/2)"
   ]
  },
  {
   "cell_type": "code",
   "execution_count": 6,
   "metadata": {},
   "outputs": [
    {
     "data": {
      "text/latex": [
       "$\\displaystyle - \\frac{2.0 x^{2}}{\\left(4 - x^{2}\\right)^{0.5}} + 2 \\left(4 - x^{2}\\right)^{0.5}$"
      ],
      "text/plain": [
       "-2.0*x**2*(4 - x**2)**(-0.5) + 2*(4 - x**2)**0.5"
      ]
     },
     "execution_count": 6,
     "metadata": {},
     "output_type": "execute_result"
    }
   ],
   "source": [
    "dAR = sym.diff(AR(x),x)\n",
    "dAR"
   ]
  },
  {
   "cell_type": "code",
   "execution_count": 7,
   "metadata": {},
   "outputs": [
    {
     "data": {
      "text/plain": [
       "[-1.41421356237310, 1.41421356237310]"
      ]
     },
     "execution_count": 7,
     "metadata": {},
     "output_type": "execute_result"
    }
   ],
   "source": [
    "xc = sym.solve(dAR,x)\n",
    "xc"
   ]
  },
  {
   "cell_type": "code",
   "execution_count": 8,
   "metadata": {},
   "outputs": [
    {
     "data": {
      "text/plain": [
       "(0.0, 3.9999999992642556, 0.0)"
      ]
     },
     "execution_count": 8,
     "metadata": {},
     "output_type": "execute_result"
    }
   ],
   "source": [
    "AR(0), AR(1.4142), AR(2)"
   ]
  },
  {
   "cell_type": "markdown",
   "metadata": {},
   "source": [
    "El área máximo del rectángulo es $4$ cuando $x = 1.4142$"
   ]
  },
  {
   "cell_type": "markdown",
   "metadata": {},
   "source": [
    "**Punto 3 (10 puntos).** ¿Cuáles son las dimensiones $b$ y $h$ del rectángulo resultante?"
   ]
  },
  {
   "cell_type": "markdown",
   "metadata": {},
   "source": [
    "**Solución punto 3.**"
   ]
  },
  {
   "cell_type": "markdown",
   "metadata": {},
   "source": [
    "Por definición tenemos que $b = 2x$"
   ]
  },
  {
   "cell_type": "code",
   "execution_count": 9,
   "metadata": {},
   "outputs": [
    {
     "data": {
      "text/latex": [
       "$\\displaystyle 2.82842712474619$"
      ],
      "text/plain": [
       "2.82842712474619"
      ]
     },
     "execution_count": 9,
     "metadata": {},
     "output_type": "execute_result"
    }
   ],
   "source": [
    "b = 2*xc[1]\n",
    "b"
   ]
  },
  {
   "cell_type": "markdown",
   "metadata": {},
   "source": [
    "Para h se tiene que"
   ]
  },
  {
   "cell_type": "code",
   "execution_count": 10,
   "metadata": {},
   "outputs": [
    {
     "data": {
      "text/latex": [
       "$\\displaystyle 1.41421356237309$"
      ],
      "text/plain": [
       "1.41421356237309"
      ]
     },
     "execution_count": 10,
     "metadata": {},
     "output_type": "execute_result"
    }
   ],
   "source": [
    "h = (4-xc[1]**2)**(1/2)\n",
    "h"
   ]
  },
  {
   "cell_type": "markdown",
   "metadata": {},
   "source": [
    "## Segundo punto. Programación lineal (35 puntos)."
   ]
  },
  {
   "cell_type": "markdown",
   "metadata": {},
   "source": [
    "**Enunciado.** Considere un restaurante que abre los siete días de la semana. Con base en la experiencia, el mínimo número de trabajadores necesarios en cada día de la semana es:"
   ]
  },
  {
   "cell_type": "code",
   "execution_count": 11,
   "metadata": {},
   "outputs": [],
   "source": [
    "import pandas as pd"
   ]
  },
  {
   "cell_type": "code",
   "execution_count": 12,
   "metadata": {},
   "outputs": [
    {
     "data": {
      "text/html": [
       "<div>\n",
       "<style scoped>\n",
       "    .dataframe tbody tr th:only-of-type {\n",
       "        vertical-align: middle;\n",
       "    }\n",
       "\n",
       "    .dataframe tbody tr th {\n",
       "        vertical-align: top;\n",
       "    }\n",
       "\n",
       "    .dataframe thead th {\n",
       "        text-align: right;\n",
       "    }\n",
       "</style>\n",
       "<table border=\"1\" class=\"dataframe\">\n",
       "  <thead>\n",
       "    <tr style=\"text-align: right;\">\n",
       "      <th></th>\n",
       "      <th>Lunes</th>\n",
       "      <th>Martes</th>\n",
       "      <th>Miercoles</th>\n",
       "      <th>Jueves</th>\n",
       "      <th>Viernes</th>\n",
       "      <th>Sábado</th>\n",
       "      <th>Domingo</th>\n",
       "    </tr>\n",
       "  </thead>\n",
       "  <tbody>\n",
       "    <tr>\n",
       "      <th>Num_trabajadores</th>\n",
       "      <td>14</td>\n",
       "      <td>13</td>\n",
       "      <td>15</td>\n",
       "      <td>16</td>\n",
       "      <td>19</td>\n",
       "      <td>18</td>\n",
       "      <td>11</td>\n",
       "    </tr>\n",
       "  </tbody>\n",
       "</table>\n",
       "</div>"
      ],
      "text/plain": [
       "                  Lunes  Martes  Miercoles  Jueves  Viernes  Sábado  Domingo\n",
       "Num_trabajadores     14      13         15      16       19      18       11"
      ]
     },
     "execution_count": 12,
     "metadata": {},
     "output_type": "execute_result"
    }
   ],
   "source": [
    "df = pd.DataFrame(columns=['Lunes', 'Martes', 'Miercoles', 'Jueves', 'Viernes', 'Sábado', 'Domingo'], index = ['Num_trabajadores'])\n",
    "df.loc['Num_trabajadores', :] = [14, 13, 15, 16, 19, 18, 11]\n",
    "df"
   ]
  },
  {
   "cell_type": "markdown",
   "metadata": {},
   "source": [
    "Cada trabajador trabaja cinco días consecutivos, y luego descansa dos, repitiendo este patrón indefinidamente. Se debe minimizar la cantidad de trabajadores totales en el restaurante.\n",
    "\n",
    "*Definición de variables*: enumeramos los días del uno al siete (Lunes - 1, Martes - 2, ..., Domingo - 7). Sea $x_i$ el número de trabajadores que empieza su turno de cinco días el día $i$."
   ]
  },
  {
   "cell_type": "markdown",
   "metadata": {},
   "source": [
    "**Punto 1 (20 puntos).** Escriba la función a minimizar junto con las restricciones, explicando detalladamente cada paso (usando fórmulas en LaTeX, en celdas Markdown). Además escriba el problema en la forma \n",
    "\\begin{equation}\n",
    "\\begin{array}{ll}\n",
    "\\min_{\\boldsymbol{x}} & \\boldsymbol{c}^T\\boldsymbol{x} \\\\\n",
    "\\text{s. a. }        & \\boldsymbol{A}_{eq}\\boldsymbol{x}=\\boldsymbol{b}_{eq} \\\\\n",
    "                     & \\boldsymbol{A}\\boldsymbol{x}\\leq\\boldsymbol{b},\n",
    "\\end{array}\n",
    "\\end{equation}\n",
    "\n",
    "proporcionando $\\boldsymbol{c}$, $\\boldsymbol{A}$ y $\\boldsymbol{b}$ ($\\boldsymbol{A}_{eq}$ y $\\boldsymbol{b}_{eq}$, de ser necesario) como arreglos de `NumPy` (no es necesario escribir en LaTeX el problema en la forma indicada, solo proporcionar las matrices como arreglos de `NumPy`)."
   ]
  },
  {
   "cell_type": "markdown",
   "metadata": {},
   "source": [
    "**Solución punto 1.**"
   ]
  },
  {
   "cell_type": "markdown",
   "metadata": {},
   "source": [
    "La función a minimiar viene dada por\n",
    "\n",
    "$$\\min_{x_1,\\cdots,x_7} = x_1+x_2+x_3+x_4+x_5+x_6+x_7$$\n",
    "\n",
    "y las restricciones están dadas por la información dada en la tabla\n",
    "\n",
    "$$x_1+x_4+x_5+x_6+x_7 \\geq 14$$\n",
    "$$x_1+x_2+x_5+x_6+x_7 \\geq 13$$\n",
    "$$x_1+x_2+x_3+x_6+x_7 \\geq 15$$\n",
    "$$x_1+x_2+x_3+x_4+x_7 \\geq 16$$\n",
    "\n",
    "Así se escribe menor o igual $\\leq$"
   ]
  },
  {
   "cell_type": "code",
   "execution_count": 13,
   "metadata": {},
   "outputs": [],
   "source": [
    "A = np.array([[-1,0,0,-1,-1,-1,-1],\n",
    "             [-1,-1,0,0,-1,-1,-1],\n",
    "             [-1,-1,-1,0,0,-1,-1],\n",
    "             [-1,-1,-1,-1,0,0,-1],\n",
    "             [-1,-1,-1,-1,-1,0,0],\n",
    "             [0,-1,-1,-1,-1,-1,0],\n",
    "             [0,0,-1,-1,-1,-1,-1]])\n",
    "b = np.array([-14,-13,-15,-16,-19,-18,-11])\n",
    "c = np.array([1,1,1,1,1,1,1])"
   ]
  },
  {
   "cell_type": "markdown",
   "metadata": {},
   "source": [
    "**Punto 2 (15 puntos).** Resuelva el problema utilizando la función `linprog`. ¿Cuántos trabajadores son necesarios en total?"
   ]
  },
  {
   "cell_type": "code",
   "execution_count": 14,
   "metadata": {},
   "outputs": [],
   "source": [
    "import scipy.optimize as opt"
   ]
  },
  {
   "cell_type": "code",
   "execution_count": 15,
   "metadata": {},
   "outputs": [
    {
     "data": {
      "text/plain": [
       "     con: array([], dtype=float64)\n",
       "     fun: 22.0\n",
       " message: 'Optimization terminated successfully.'\n",
       "     nit: 7\n",
       "   slack: array([0., 4., 0., 0., 0., 0., 0.])\n",
       "  status: 0\n",
       " success: True\n",
       "       x: array([4., 7., 1., 4., 3., 3., 0.])"
      ]
     },
     "execution_count": 15,
     "metadata": {},
     "output_type": "execute_result"
    }
   ],
   "source": [
    "resultado = opt.linprog(c,A_ub=A,b_ub=b)\n",
    "resultado"
   ]
  },
  {
   "cell_type": "markdown",
   "metadata": {},
   "source": [
    "**Conclusión** En total es necesario 22 trabajadores"
   ]
  },
  {
   "cell_type": "markdown",
   "metadata": {},
   "source": [
    "## Tercer punto. Ajuste de curvas (35 puntos).\n",
    "\n",
    "**Enunciado**. El archivo `population_data.csv` contiene información histórica anual de México relativa a la población, nacimientos y muertes desde el año 1950 hasta el año 2015. La primer columna corresponde a los años, la segunda a la población, la tercera a los nacimientos y la última a los decesos.\n",
    "\n",
    "Tomado de: https://en.wikipedia.org/wiki/Demographics_of_Mexico.\n",
    "\n",
    "**Punto 1 (10 puntos).** Importar los datos en un DataFrame de pandas."
   ]
  },
  {
   "cell_type": "markdown",
   "metadata": {},
   "source": [
    "**Solución punto 1.**"
   ]
  },
  {
   "cell_type": "code",
   "execution_count": 16,
   "metadata": {},
   "outputs": [],
   "source": [
    "import pandas as pd"
   ]
  },
  {
   "cell_type": "code",
   "execution_count": 17,
   "metadata": {
    "scrolled": true
   },
   "outputs": [
    {
     "data": {
      "text/html": [
       "<div>\n",
       "<style scoped>\n",
       "    .dataframe tbody tr th:only-of-type {\n",
       "        vertical-align: middle;\n",
       "    }\n",
       "\n",
       "    .dataframe tbody tr th {\n",
       "        vertical-align: top;\n",
       "    }\n",
       "\n",
       "    .dataframe thead th {\n",
       "        text-align: right;\n",
       "    }\n",
       "</style>\n",
       "<table border=\"1\" class=\"dataframe\">\n",
       "  <thead>\n",
       "    <tr style=\"text-align: right;\">\n",
       "      <th></th>\n",
       "      <th>Year</th>\n",
       "      <th>Poblacion</th>\n",
       "      <th>Nacimientos</th>\n",
       "      <th>Decesos</th>\n",
       "    </tr>\n",
       "  </thead>\n",
       "  <tbody>\n",
       "    <tr>\n",
       "      <th>0</th>\n",
       "      <td>1950</td>\n",
       "      <td>28296</td>\n",
       "      <td>1174947</td>\n",
       "      <td>418430</td>\n",
       "    </tr>\n",
       "    <tr>\n",
       "      <th>1</th>\n",
       "      <td>1951</td>\n",
       "      <td>29110</td>\n",
       "      <td>1183788</td>\n",
       "      <td>458238</td>\n",
       "    </tr>\n",
       "    <tr>\n",
       "      <th>2</th>\n",
       "      <td>1952</td>\n",
       "      <td>29980</td>\n",
       "      <td>1195209</td>\n",
       "      <td>408823</td>\n",
       "    </tr>\n",
       "    <tr>\n",
       "      <th>3</th>\n",
       "      <td>1953</td>\n",
       "      <td>30904</td>\n",
       "      <td>1261775</td>\n",
       "      <td>446127</td>\n",
       "    </tr>\n",
       "    <tr>\n",
       "      <th>4</th>\n",
       "      <td>1954</td>\n",
       "      <td>31880</td>\n",
       "      <td>1339837</td>\n",
       "      <td>378752</td>\n",
       "    </tr>\n",
       "    <tr>\n",
       "      <th>5</th>\n",
       "      <td>1955</td>\n",
       "      <td>32906</td>\n",
       "      <td>1377917</td>\n",
       "      <td>407522</td>\n",
       "    </tr>\n",
       "    <tr>\n",
       "      <th>6</th>\n",
       "      <td>1956</td>\n",
       "      <td>33978</td>\n",
       "      <td>1427722</td>\n",
       "      <td>368740</td>\n",
       "    </tr>\n",
       "    <tr>\n",
       "      <th>7</th>\n",
       "      <td>1957</td>\n",
       "      <td>35095</td>\n",
       "      <td>1485202</td>\n",
       "      <td>414545</td>\n",
       "    </tr>\n",
       "    <tr>\n",
       "      <th>8</th>\n",
       "      <td>1958</td>\n",
       "      <td>36253</td>\n",
       "      <td>1447578</td>\n",
       "      <td>404529</td>\n",
       "    </tr>\n",
       "    <tr>\n",
       "      <th>9</th>\n",
       "      <td>1959</td>\n",
       "      <td>37448</td>\n",
       "      <td>1589606</td>\n",
       "      <td>396924</td>\n",
       "    </tr>\n",
       "    <tr>\n",
       "      <th>10</th>\n",
       "      <td>1960</td>\n",
       "      <td>38677</td>\n",
       "      <td>1608174</td>\n",
       "      <td>402545</td>\n",
       "    </tr>\n",
       "    <tr>\n",
       "      <th>11</th>\n",
       "      <td>1961</td>\n",
       "      <td>39939</td>\n",
       "      <td>1647006</td>\n",
       "      <td>388857</td>\n",
       "    </tr>\n",
       "    <tr>\n",
       "      <th>12</th>\n",
       "      <td>1962</td>\n",
       "      <td>41234</td>\n",
       "      <td>1705481</td>\n",
       "      <td>403046</td>\n",
       "    </tr>\n",
       "    <tr>\n",
       "      <th>13</th>\n",
       "      <td>1963</td>\n",
       "      <td>42564</td>\n",
       "      <td>1756624</td>\n",
       "      <td>412834</td>\n",
       "    </tr>\n",
       "    <tr>\n",
       "      <th>14</th>\n",
       "      <td>1964</td>\n",
       "      <td>43931</td>\n",
       "      <td>1849408</td>\n",
       "      <td>408275</td>\n",
       "    </tr>\n",
       "    <tr>\n",
       "      <th>15</th>\n",
       "      <td>1965</td>\n",
       "      <td>45339</td>\n",
       "      <td>1888171</td>\n",
       "      <td>404163</td>\n",
       "    </tr>\n",
       "    <tr>\n",
       "      <th>16</th>\n",
       "      <td>1966</td>\n",
       "      <td>46784</td>\n",
       "      <td>1954340</td>\n",
       "      <td>424141</td>\n",
       "    </tr>\n",
       "    <tr>\n",
       "      <th>17</th>\n",
       "      <td>1967</td>\n",
       "      <td>48264</td>\n",
       "      <td>1981363</td>\n",
       "      <td>420298</td>\n",
       "    </tr>\n",
       "    <tr>\n",
       "      <th>18</th>\n",
       "      <td>1968</td>\n",
       "      <td>49788</td>\n",
       "      <td>2058251</td>\n",
       "      <td>452910</td>\n",
       "    </tr>\n",
       "    <tr>\n",
       "      <th>19</th>\n",
       "      <td>1969</td>\n",
       "      <td>51361</td>\n",
       "      <td>2037561</td>\n",
       "      <td>458886</td>\n",
       "    </tr>\n",
       "    <tr>\n",
       "      <th>20</th>\n",
       "      <td>1970</td>\n",
       "      <td>52988</td>\n",
       "      <td>2132630</td>\n",
       "      <td>485656</td>\n",
       "    </tr>\n",
       "    <tr>\n",
       "      <th>21</th>\n",
       "      <td>1971</td>\n",
       "      <td>54669</td>\n",
       "      <td>2231399</td>\n",
       "      <td>458323</td>\n",
       "    </tr>\n",
       "    <tr>\n",
       "      <th>22</th>\n",
       "      <td>1972</td>\n",
       "      <td>56396</td>\n",
       "      <td>2346002</td>\n",
       "      <td>476206</td>\n",
       "    </tr>\n",
       "    <tr>\n",
       "      <th>23</th>\n",
       "      <td>1973</td>\n",
       "      <td>58156</td>\n",
       "      <td>2572287</td>\n",
       "      <td>458915</td>\n",
       "    </tr>\n",
       "    <tr>\n",
       "      <th>24</th>\n",
       "      <td>1974</td>\n",
       "      <td>59931</td>\n",
       "      <td>2522580</td>\n",
       "      <td>433104</td>\n",
       "    </tr>\n",
       "    <tr>\n",
       "      <th>25</th>\n",
       "      <td>1975</td>\n",
       "      <td>61708</td>\n",
       "      <td>2254497</td>\n",
       "      <td>435888</td>\n",
       "    </tr>\n",
       "    <tr>\n",
       "      <th>26</th>\n",
       "      <td>1976</td>\n",
       "      <td>63486</td>\n",
       "      <td>2366305</td>\n",
       "      <td>455660</td>\n",
       "    </tr>\n",
       "    <tr>\n",
       "      <th>27</th>\n",
       "      <td>1977</td>\n",
       "      <td>65261</td>\n",
       "      <td>2379327</td>\n",
       "      <td>450454</td>\n",
       "    </tr>\n",
       "    <tr>\n",
       "      <th>28</th>\n",
       "      <td>1978</td>\n",
       "      <td>67013</td>\n",
       "      <td>2346862</td>\n",
       "      <td>418381</td>\n",
       "    </tr>\n",
       "    <tr>\n",
       "      <th>29</th>\n",
       "      <td>1979</td>\n",
       "      <td>68715</td>\n",
       "      <td>2274267</td>\n",
       "      <td>428217</td>\n",
       "    </tr>\n",
       "    <tr>\n",
       "      <th>...</th>\n",
       "      <td>...</td>\n",
       "      <td>...</td>\n",
       "      <td>...</td>\n",
       "      <td>...</td>\n",
       "    </tr>\n",
       "    <tr>\n",
       "      <th>36</th>\n",
       "      <td>1986</td>\n",
       "      <td>79410</td>\n",
       "      <td>2577045</td>\n",
       "      <td>400079</td>\n",
       "    </tr>\n",
       "    <tr>\n",
       "      <th>37</th>\n",
       "      <td>1987</td>\n",
       "      <td>80999</td>\n",
       "      <td>2794390</td>\n",
       "      <td>400280</td>\n",
       "    </tr>\n",
       "    <tr>\n",
       "      <th>38</th>\n",
       "      <td>1988</td>\n",
       "      <td>82635</td>\n",
       "      <td>2622031</td>\n",
       "      <td>412987</td>\n",
       "    </tr>\n",
       "    <tr>\n",
       "      <th>39</th>\n",
       "      <td>1989</td>\n",
       "      <td>84327</td>\n",
       "      <td>2620262</td>\n",
       "      <td>423304</td>\n",
       "    </tr>\n",
       "    <tr>\n",
       "      <th>40</th>\n",
       "      <td>1990</td>\n",
       "      <td>86077</td>\n",
       "      <td>2735312</td>\n",
       "      <td>422803</td>\n",
       "    </tr>\n",
       "    <tr>\n",
       "      <th>41</th>\n",
       "      <td>1991</td>\n",
       "      <td>87890</td>\n",
       "      <td>2756447</td>\n",
       "      <td>411131</td>\n",
       "    </tr>\n",
       "    <tr>\n",
       "      <th>42</th>\n",
       "      <td>1992</td>\n",
       "      <td>89758</td>\n",
       "      <td>2797397</td>\n",
       "      <td>409814</td>\n",
       "    </tr>\n",
       "    <tr>\n",
       "      <th>43</th>\n",
       "      <td>1993</td>\n",
       "      <td>91654</td>\n",
       "      <td>2839686</td>\n",
       "      <td>416335</td>\n",
       "    </tr>\n",
       "    <tr>\n",
       "      <th>44</th>\n",
       "      <td>1994</td>\n",
       "      <td>93542</td>\n",
       "      <td>2904389</td>\n",
       "      <td>419074</td>\n",
       "    </tr>\n",
       "    <tr>\n",
       "      <th>45</th>\n",
       "      <td>1995</td>\n",
       "      <td>95393</td>\n",
       "      <td>2750444</td>\n",
       "      <td>430278</td>\n",
       "    </tr>\n",
       "    <tr>\n",
       "      <th>46</th>\n",
       "      <td>1996</td>\n",
       "      <td>97202</td>\n",
       "      <td>2707718</td>\n",
       "      <td>436321</td>\n",
       "    </tr>\n",
       "    <tr>\n",
       "      <th>47</th>\n",
       "      <td>1997</td>\n",
       "      <td>98969</td>\n",
       "      <td>2698425</td>\n",
       "      <td>440437</td>\n",
       "    </tr>\n",
       "    <tr>\n",
       "      <th>48</th>\n",
       "      <td>1998</td>\n",
       "      <td>100679</td>\n",
       "      <td>2668429</td>\n",
       "      <td>444665</td>\n",
       "    </tr>\n",
       "    <tr>\n",
       "      <th>49</th>\n",
       "      <td>1999</td>\n",
       "      <td>102317</td>\n",
       "      <td>2769089</td>\n",
       "      <td>443950</td>\n",
       "    </tr>\n",
       "    <tr>\n",
       "      <th>50</th>\n",
       "      <td>2000</td>\n",
       "      <td>103874</td>\n",
       "      <td>2798339</td>\n",
       "      <td>437667</td>\n",
       "    </tr>\n",
       "    <tr>\n",
       "      <th>51</th>\n",
       "      <td>2001</td>\n",
       "      <td>105340</td>\n",
       "      <td>2767610</td>\n",
       "      <td>443127</td>\n",
       "    </tr>\n",
       "    <tr>\n",
       "      <th>52</th>\n",
       "      <td>2002</td>\n",
       "      <td>106724</td>\n",
       "      <td>2699084</td>\n",
       "      <td>459687</td>\n",
       "    </tr>\n",
       "    <tr>\n",
       "      <th>53</th>\n",
       "      <td>2003</td>\n",
       "      <td>108056</td>\n",
       "      <td>2655894</td>\n",
       "      <td>472140</td>\n",
       "    </tr>\n",
       "    <tr>\n",
       "      <th>54</th>\n",
       "      <td>2004</td>\n",
       "      <td>109382</td>\n",
       "      <td>2625056</td>\n",
       "      <td>473417</td>\n",
       "    </tr>\n",
       "    <tr>\n",
       "      <th>55</th>\n",
       "      <td>2005</td>\n",
       "      <td>110732</td>\n",
       "      <td>2567906</td>\n",
       "      <td>495240</td>\n",
       "    </tr>\n",
       "    <tr>\n",
       "      <th>56</th>\n",
       "      <td>2006</td>\n",
       "      <td>112117</td>\n",
       "      <td>2505939</td>\n",
       "      <td>494471</td>\n",
       "    </tr>\n",
       "    <tr>\n",
       "      <th>57</th>\n",
       "      <td>2007</td>\n",
       "      <td>113530</td>\n",
       "      <td>2655083</td>\n",
       "      <td>514420</td>\n",
       "    </tr>\n",
       "    <tr>\n",
       "      <th>58</th>\n",
       "      <td>2008</td>\n",
       "      <td>114968</td>\n",
       "      <td>2636110</td>\n",
       "      <td>539530</td>\n",
       "    </tr>\n",
       "    <tr>\n",
       "      <th>59</th>\n",
       "      <td>2009</td>\n",
       "      <td>116423</td>\n",
       "      <td>2577214</td>\n",
       "      <td>564673</td>\n",
       "    </tr>\n",
       "    <tr>\n",
       "      <th>60</th>\n",
       "      <td>2010</td>\n",
       "      <td>114255</td>\n",
       "      <td>2643908</td>\n",
       "      <td>592018</td>\n",
       "    </tr>\n",
       "    <tr>\n",
       "      <th>61</th>\n",
       "      <td>2011</td>\n",
       "      <td>115683</td>\n",
       "      <td>2586287</td>\n",
       "      <td>590693</td>\n",
       "    </tr>\n",
       "    <tr>\n",
       "      <th>62</th>\n",
       "      <td>2012</td>\n",
       "      <td>117054</td>\n",
       "      <td>2498880</td>\n",
       "      <td>602354</td>\n",
       "    </tr>\n",
       "    <tr>\n",
       "      <th>63</th>\n",
       "      <td>2013</td>\n",
       "      <td>118395</td>\n",
       "      <td>2478889</td>\n",
       "      <td>623599</td>\n",
       "    </tr>\n",
       "    <tr>\n",
       "      <th>64</th>\n",
       "      <td>2014</td>\n",
       "      <td>119713</td>\n",
       "      <td>2463420</td>\n",
       "      <td>633641</td>\n",
       "    </tr>\n",
       "    <tr>\n",
       "      <th>65</th>\n",
       "      <td>2015</td>\n",
       "      <td>121005</td>\n",
       "      <td>2353596</td>\n",
       "      <td>655694</td>\n",
       "    </tr>\n",
       "  </tbody>\n",
       "</table>\n",
       "<p>66 rows × 4 columns</p>\n",
       "</div>"
      ],
      "text/plain": [
       "    Year  Poblacion  Nacimientos  Decesos\n",
       "0   1950      28296      1174947   418430\n",
       "1   1951      29110      1183788   458238\n",
       "2   1952      29980      1195209   408823\n",
       "3   1953      30904      1261775   446127\n",
       "4   1954      31880      1339837   378752\n",
       "5   1955      32906      1377917   407522\n",
       "6   1956      33978      1427722   368740\n",
       "7   1957      35095      1485202   414545\n",
       "8   1958      36253      1447578   404529\n",
       "9   1959      37448      1589606   396924\n",
       "10  1960      38677      1608174   402545\n",
       "11  1961      39939      1647006   388857\n",
       "12  1962      41234      1705481   403046\n",
       "13  1963      42564      1756624   412834\n",
       "14  1964      43931      1849408   408275\n",
       "15  1965      45339      1888171   404163\n",
       "16  1966      46784      1954340   424141\n",
       "17  1967      48264      1981363   420298\n",
       "18  1968      49788      2058251   452910\n",
       "19  1969      51361      2037561   458886\n",
       "20  1970      52988      2132630   485656\n",
       "21  1971      54669      2231399   458323\n",
       "22  1972      56396      2346002   476206\n",
       "23  1973      58156      2572287   458915\n",
       "24  1974      59931      2522580   433104\n",
       "25  1975      61708      2254497   435888\n",
       "26  1976      63486      2366305   455660\n",
       "27  1977      65261      2379327   450454\n",
       "28  1978      67013      2346862   418381\n",
       "29  1979      68715      2274267   428217\n",
       "..   ...        ...          ...      ...\n",
       "36  1986      79410      2577045   400079\n",
       "37  1987      80999      2794390   400280\n",
       "38  1988      82635      2622031   412987\n",
       "39  1989      84327      2620262   423304\n",
       "40  1990      86077      2735312   422803\n",
       "41  1991      87890      2756447   411131\n",
       "42  1992      89758      2797397   409814\n",
       "43  1993      91654      2839686   416335\n",
       "44  1994      93542      2904389   419074\n",
       "45  1995      95393      2750444   430278\n",
       "46  1996      97202      2707718   436321\n",
       "47  1997      98969      2698425   440437\n",
       "48  1998     100679      2668429   444665\n",
       "49  1999     102317      2769089   443950\n",
       "50  2000     103874      2798339   437667\n",
       "51  2001     105340      2767610   443127\n",
       "52  2002     106724      2699084   459687\n",
       "53  2003     108056      2655894   472140\n",
       "54  2004     109382      2625056   473417\n",
       "55  2005     110732      2567906   495240\n",
       "56  2006     112117      2505939   494471\n",
       "57  2007     113530      2655083   514420\n",
       "58  2008     114968      2636110   539530\n",
       "59  2009     116423      2577214   564673\n",
       "60  2010     114255      2643908   592018\n",
       "61  2011     115683      2586287   590693\n",
       "62  2012     117054      2498880   602354\n",
       "63  2013     118395      2478889   623599\n",
       "64  2014     119713      2463420   633641\n",
       "65  2015     121005      2353596   655694\n",
       "\n",
       "[66 rows x 4 columns]"
      ]
     },
     "execution_count": 17,
     "metadata": {},
     "output_type": "execute_result"
    }
   ],
   "source": [
    "file_name = 'population_data.csv'\n",
    "data = pd.read_csv(file_name)\n",
    "data"
   ]
  },
  {
   "cell_type": "markdown",
   "metadata": {},
   "source": [
    "**Punto 2 (15 puntos).** Usando los años como variable independiente $x$ y la población como variable dependiente $y$, ajustar polinomios de grado 1 hasta grado 3.\n",
    "\n",
    "Mostrar en un solo gráfico los datos de población contra los años, y los polinomios ajustados.\n",
    "\n",
    "Graficar el error cuadrático acumulado contra el número de términos. ¿Cuál es el polinomio que mejor se ajusta?"
   ]
  },
  {
   "cell_type": "markdown",
   "metadata": {},
   "source": [
    "**Solución punto 2.**"
   ]
  },
  {
   "cell_type": "code",
   "execution_count": 18,
   "metadata": {},
   "outputs": [],
   "source": [
    "x = data.iloc[:,0].values/1e4\n",
    "y = data.iloc[:,1].values/1e6"
   ]
  },
  {
   "cell_type": "code",
   "execution_count": 19,
   "metadata": {},
   "outputs": [],
   "source": [
    "def fun_obj(beta,x,y,n):\n",
    "    return np.sum((y-beta.dot([x**i for i in range(n+1)]))**2)"
   ]
  },
  {
   "cell_type": "code",
   "execution_count": 20,
   "metadata": {},
   "outputs": [],
   "source": [
    "b01 = np.zeros(2)\n",
    "b02 = np.zeros(3)\n",
    "b03 = np.zeros(4)\n",
    "\n",
    "ajuste1 = opt.minimize(fun_obj,b01,args=(x,y,1))\n",
    "ajuste2 = opt.minimize(fun_obj,b02,args=(x,y,2))\n",
    "ajuste3 = opt.minimize(fun_obj,b03,args=(x,y,3))"
   ]
  },
  {
   "cell_type": "code",
   "execution_count": 21,
   "metadata": {},
   "outputs": [
    {
     "data": {
      "text/plain": [
       "      fun: 0.0002121371950321856\n",
       " hess_inv: array([[  82.05132861, -413.83986309],\n",
       "       [-413.83986309, 2087.46463097]])\n",
       "      jac: array([8.00355338e-10, 1.01863407e-10])\n",
       "  message: 'Optimization terminated successfully.'\n",
       "     nfev: 40\n",
       "      nit: 4\n",
       "     njev: 10\n",
       "   status: 0\n",
       "  success: True\n",
       "        x: array([-2.9866748 , 15.44006024])"
      ]
     },
     "execution_count": 21,
     "metadata": {},
     "output_type": "execute_result"
    }
   ],
   "source": [
    "ajuste1"
   ]
  },
  {
   "cell_type": "code",
   "execution_count": 22,
   "metadata": {},
   "outputs": [
    {
     "data": {
      "text/plain": [
       "      fun: 0.00021184693362423678\n",
       " hess_inv: array([[  71.09615591, -331.93918706, -134.37015914],\n",
       "       [-331.93918706, 1549.98796332,  627.22590392],\n",
       "       [-134.37015914,  627.22590392,  254.97863903]])\n",
       "      jac: array([-8.76752893e-10,  8.19272827e-09, -2.20370566e-08])\n",
       "  message: 'Optimization terminated successfully.'\n",
       "     nfev: 50\n",
       "      nit: 4\n",
       "     njev: 10\n",
       "   status: 0\n",
       "  success: True\n",
       "        x: array([-2.77506704, 13.3050888 ,  5.38458765])"
      ]
     },
     "execution_count": 22,
     "metadata": {},
     "output_type": "execute_result"
    }
   ],
   "source": [
    "ajuste2"
   ]
  },
  {
   "cell_type": "code",
   "execution_count": 23,
   "metadata": {},
   "outputs": [
    {
     "data": {
      "text/plain": [
       "      fun: 0.00021180513451636628\n",
       " hess_inv: array([[  69.98920362, -325.33307692, -131.70728937,  -39.43796249],\n",
       "       [-325.33307692, 1512.46129184,  612.08672395,  183.29945129],\n",
       "       [-131.70728937,  612.08672395,  248.87120865,   74.22896075],\n",
       "       [ -39.43796249,  183.29945129,   74.22896075,   23.22902331]])\n",
       "      jac: array([-1.22417987e-09,  9.26775101e-09, -2.03617674e-08, -1.59689080e-08])\n",
       "  message: 'Optimization terminated successfully.'\n",
       "     nfev: 60\n",
       "      nit: 4\n",
       "     njev: 10\n",
       "   status: 0\n",
       "  success: True\n",
       "        x: array([-2.75280714, 13.14309915,  5.31948264,  1.59271617])"
      ]
     },
     "execution_count": 23,
     "metadata": {},
     "output_type": "execute_result"
    }
   ],
   "source": [
    "ajuste3"
   ]
  },
  {
   "cell_type": "code",
   "execution_count": 24,
   "metadata": {},
   "outputs": [],
   "source": [
    "xpoints = x*1e4\n",
    "ypoints = y*1e6"
   ]
  },
  {
   "cell_type": "code",
   "execution_count": 31,
   "metadata": {},
   "outputs": [],
   "source": [
    "yhat1 = (ajuste1.x[0] + ajuste1.x[1]*xpoints/1e4)*1e6\n",
    "yhat2 = (ajuste2.x[0] + ajuste2.x[1]*xpoints/1e4 + ajuste2.x[2]*(xpoints/(1e4))**2)*1e6\n",
    "yhat3 = (ajuste3.x[0] + ajuste3.x[1]*xpoints/1e4 + ajuste3.x[2]*(xpoints/(1e4))**2 + ajuste3.x[3]*(xpoints/(1e4))**3)*1e6"
   ]
  },
  {
   "cell_type": "code",
   "execution_count": 26,
   "metadata": {},
   "outputs": [],
   "source": [
    "import matplotlib.pyplot as plt"
   ]
  },
  {
   "cell_type": "code",
   "execution_count": 27,
   "metadata": {},
   "outputs": [
    {
     "data": {
      "text/plain": [
       "Text(0, 0.5, 'Población en miles de personas')"
      ]
     },
     "execution_count": 27,
     "metadata": {},
     "output_type": "execute_result"
    },
    {
     "data": {
      "image/png": "[encoded data removed]",
      "text/plain": [
       "<Figure size 576x432 with 1 Axes>"
      ]
     },
     "metadata": {
      "needs_background": "light"
     },
     "output_type": "display_data"
    }
   ],
   "source": [
    "plt.figure(figsize=(8,6))\n",
    "plt.plot(xpoints,ypoints,'r*',ms = 6,label='Puntos')\n",
    "plt.plot(xpoints,yhat1,'b',ms = 6,label='Ajuste 1')\n",
    "plt.plot(xpoints,yhat2,'k',ms = 6,label='Ajuste 2')\n",
    "plt.plot(xpoints,yhat3,'g',ms = 6,label='Ajuste 3')\n",
    "plt.grid()\n",
    "plt.legend(loc='best')\n",
    "plt.xlabel('Años')\n",
    "plt.ylabel('Población en miles de personas')"
   ]
  },
  {
   "cell_type": "code",
   "execution_count": 28,
   "metadata": {},
   "outputs": [
    {
     "data": {
      "text/plain": [
       "Text(0, 0.5, 'Error')"
      ]
     },
     "execution_count": 28,
     "metadata": {},
     "output_type": "execute_result"
    },
    {
     "data": {
      "image/png": "[encoded data removed]",
      "text/plain": [
       "<Figure size 576x432 with 1 Axes>"
      ]
     },
     "metadata": {
      "needs_background": "light"
     },
     "output_type": "display_data"
    }
   ],
   "source": [
    "error = [ajuste1.fun,ajuste2.fun,ajuste3.fun]\n",
    "plt.figure(figsize=(8,6))\n",
    "plt.plot(range(1,4),error,'ro',ms=5)\n",
    "plt.xlabel('Orden del polinomio')\n",
    "plt.ylabel('Error')"
   ]
  },
  {
   "cell_type": "markdown",
   "metadata": {},
   "source": [
    "*Conclusión*"
   ]
  },
  {
   "cell_type": "markdown",
   "metadata": {},
   "source": [
    "Según la gráfica anterior, el polinomio que mejor se ajusta es el de tercer orden."
   ]
  },
  {
   "cell_type": "markdown",
   "metadata": {},
   "source": [
    "**Punto 3 (10 puntos).** Con los polinomios ajustados en el punto anterior, estime la población en el año 2016 y compare con el dato real 127,5 millones.\n",
    "\n",
    "¿Cuál polinomio estima mejor este dato? ¿Es el polinomio que mejor se ajusta? Concluya."
   ]
  },
  {
   "cell_type": "markdown",
   "metadata": {
    "collapsed": true
   },
   "source": [
    "**Solución punto 3.**"
   ]
  },
  {
   "cell_type": "code",
   "execution_count": 29,
   "metadata": {},
   "outputs": [
    {
     "data": {
      "text/plain": [
       "(126041.3458724967, 126082.29168915396, 126089.02356462786, 127.5)"
      ]
     },
     "execution_count": 29,
     "metadata": {},
     "output_type": "execute_result"
    }
   ],
   "source": [
    "yhat1 = (ajuste1.x[0] + ajuste1.x[1]*2016/1e4)*1e6\n",
    "yhat2 = (ajuste2.x[0] + ajuste2.x[1]*2016/1e4 + ajuste2.x[2]*(2016/(1e4))**2)*1e6\n",
    "yhat3 = (ajuste3.x[0] + ajuste3.x[1]*2016/1e4 + ajuste3.x[2]*(2016/(1e4))**2 + ajuste3.x[3]*(2016/(1e4))**3)*1e6\n",
    "\n",
    "yhat1,yhat2,yhat3,127.5"
   ]
  },
  {
   "cell_type": "markdown",
   "metadata": {},
   "source": [
    "*Conclusión*. El polinomio que mejor estima este dato es el polinomio de grado tres."
   ]
  }
 ],
 "metadata": {
  "kernelspec": {
   "display_name": "Python 3",
   "language": "python",
   "name": "python3"
  },
  "language_info": {
   "codemirror_mode": {
    "name": "ipython",
    "version": 3
   },
   "file_extension": ".py",
   "mimetype": "text/x-python",
   "name": "python",
   "nbconvert_exporter": "python",
   "pygments_lexer": "ipython3",
   "version": "3.7.3"
  }
 },
 "nbformat": 4,
 "nbformat_minor": 2
}
